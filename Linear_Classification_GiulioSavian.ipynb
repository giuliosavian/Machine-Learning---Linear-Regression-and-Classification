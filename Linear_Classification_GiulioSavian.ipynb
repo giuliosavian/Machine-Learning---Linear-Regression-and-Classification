{
  "cells": [
    {
      "attachments": {},
      "cell_type": "markdown",
      "metadata": {
        "id": "Cz3P5AvXhd4C"
      },
      "source": [
        "Before you turn this problem in, make sure everything runs as expected. First, **restart the kernel** (in the menubar, select Kernel$\\rightarrow$Restart) and then **run all cells** (in the menubar, select Cell$\\rightarrow$Run All).\n",
        "\n",
        "Make sure you fill in any place that says `YOUR CODE HERE` or \"YOUR ANSWER HERE\" and remove every line containing the expression: \"raise ...\" (if you leave such a line your code will not run).\n",
        "\n",
        "## IMPORTANT: make sure to rerun all the code from the beginning to obtain the results for the final version of your notebook, since this is the way we will do it before evaluating your notebook!!!\n",
        "\n",
        "Fill in your name and id number (numero matricola) below:"
      ]
    },
    {
      "cell_type": "code",
      "execution_count": null,
      "metadata": {
        "id": "dvI9eogchd4E"
      },
      "outputs": [],
      "source": [
        "NAME = \"Giulio Savian\"\n",
        "ID_number = int(\"1167313\")"
      ]
    },
    {
      "attachments": {},
      "cell_type": "markdown",
      "metadata": {
        "deletable": false,
        "editable": false,
        "id": "umbxknlnhd4N",
        "nbgrader": {
          "cell_type": "markdown",
          "checksum": "4ef6a856bf6996469a4cfb2175d6df79",
          "grade": false,
          "grade_id": "cell-0b45e876b590deca",
          "locked": true,
          "schema_version": 3,
          "solution": false,
          "task": false
        }
      },
      "source": [
        "# Classification on Wine Dataset\n",
        "\n",
        "### Dataset description\n",
        "\n",
        "We will be working with a dataset on wines from the UCI machine learning repository\n",
        "(http://archive.ics.uci.edu/ml/datasets/Wine ). It contains data for 178 instances. \n",
        "The dataset is the results of a chemical analysis of wines grown in the same region\n",
        "in Italy but derived from three different cultivars. The analysis determined the\n",
        "quantities of 13 constituents found in each of the three types of wines. \n",
        "\n",
        "### The features in the dataset are:\n",
        "\n",
        "- Alcohol\n",
        "- Malic acid\n",
        "- Ash\n",
        "- Alcalinity of ash\n",
        "- Magnesium\n",
        "- Total phenols\n",
        "- Flavanoids\n",
        "- Nonflavanoid phenols\n",
        "- Proanthocyanins\n",
        "- Color intensity\n",
        "- Hue\n",
        "- OD280/OD315 of diluted wines\n",
        "-Proline\n",
        "\n",
        "\n"
      ]
    },
    {
      "attachments": {},
      "cell_type": "markdown",
      "metadata": {
        "deletable": false,
        "editable": false,
        "id": "jwH16PUMhd4O",
        "nbgrader": {
          "cell_type": "markdown",
          "checksum": "de27abe278eac61bd289180959f88630",
          "grade": false,
          "grade_id": "cell-12773fe6d001aa0d",
          "locked": true,
          "schema_version": 3,
          "solution": false,
          "task": false
        }
      },
      "source": [
        "We first import all the packages that are needed"
      ]
    },
    {
      "cell_type": "code",
      "execution_count": null,
      "metadata": {
        "deletable": false,
        "editable": false,
        "id": "spoFtuxbhd4P",
        "nbgrader": {
          "cell_type": "code",
          "checksum": "9bf7b598fe507466680cab8fd0941040",
          "grade": false,
          "grade_id": "cell-18fb2059facb1757",
          "locked": true,
          "schema_version": 3,
          "solution": false,
          "task": false
        }
      },
      "outputs": [],
      "source": [
        "%matplotlib inline\n",
        "import matplotlib.pyplot as plt\n",
        "\n",
        "\n",
        "import numpy as np\n",
        "import scipy as sp\n",
        "from scipy import stats\n",
        "from sklearn import datasets\n",
        "from sklearn import linear_model"
      ]
    },
    {
      "cell_type": "code",
      "execution_count": null,
      "metadata": {
        "deletable": false,
        "editable": false,
        "id": "xjZysELDhd4V",
        "nbgrader": {
          "cell_type": "code",
          "checksum": "878771d729c2e61d88e0bb5762d1d564",
          "grade": false,
          "grade_id": "cell-ecb42095dd5d61b9",
          "locked": true,
          "schema_version": 3,
          "solution": false,
          "task": false
        }
      },
      "outputs": [],
      "source": [
        "# TODO 0\n",
        "ID_number = 1167112 # Add your Id number here\n",
        "np.random.seed(ID_number)"
      ]
    },
    {
      "attachments": {},
      "cell_type": "markdown",
      "metadata": {
        "id": "KPs2r0vhhd4M"
      },
      "source": [
        "---"
      ]
    },
    {
      "attachments": {},
      "cell_type": "markdown",
      "metadata": {
        "deletable": false,
        "editable": false,
        "id": "BjJ_dnKHhd4b",
        "nbgrader": {
          "cell_type": "markdown",
          "checksum": "ef16821f9da27091d8ede41df14b6cbc",
          "grade": false,
          "grade_id": "cell-7e0a653355f6eaf6",
          "locked": true,
          "schema_version": 3,
          "solution": false,
          "task": false
        }
      },
      "source": [
        "# Perceptron\n",
        "We will implement the perceptron and use it to learn a halfspace with 0-1 loss."
      ]
    },
    {
      "attachments": {},
      "cell_type": "markdown",
      "metadata": {
        "deletable": false,
        "editable": false,
        "id": "da_xWWWQhd4c",
        "nbgrader": {
          "cell_type": "markdown",
          "checksum": "3213d986106aa2393e9823430dac4534",
          "grade": false,
          "grade_id": "cell-afd6e34f8a3801f7",
          "locked": true,
          "schema_version": 3,
          "solution": false,
          "task": false
        }
      },
      "source": [
        "Load the dataset from scikit learn and then split in training set and test set (50%-50%) after applying a random permutation to the datset."
      ]
    },
    {
      "cell_type": "code",
      "execution_count": null,
      "metadata": {
        "id": "9isikYKUhd4d"
      },
      "outputs": [],
      "source": [
        "# Load the dataset from scikit learn\n",
        "wine = datasets.load_wine()\n",
        "# Get input and output data from the dataset\n",
        "X = wine.data\n",
        "Y = wine.target\n",
        "# Create new labels\n",
        "Y = np.where(Y == 0, -1, Y)\n",
        "Y = np.where(Y == 2, -1, Y)\n",
        "# Let's get the number of features\n",
        "d = X.shape[1]"
      ]
    },
    {
      "cell_type": "code",
      "execution_count": null,
      "metadata": {
        "deletable": false,
        "editable": false,
        "id": "6NApTTewhd4i",
        "nbgrader": {
          "cell_type": "code",
          "checksum": "c611e9863df5d7b5255996608a3a2133",
          "grade": false,
          "grade_id": "cell-ec8c87debd43b523",
          "locked": true,
          "schema_version": 3,
          "solution": false,
          "task": false
        }
      },
      "outputs": [],
      "source": [
        "##### Helper functions, do not modify them. You will need them for the first TODO\n",
        "def check_constraints(labels, all_possibile_labels, min_num_istances):\n",
        "    # Count the number of occurrences using numpy\n",
        "    unique, counts = np.unique(labels, return_counts=True)\n",
        "    if len(all_possibile_labels) != len(unique):\n",
        "        return True\n",
        "    if (counts >= min_num_istances).all():\n",
        "        return False\n",
        "    else:\n",
        "        return True\n",
        "    \n",
        "def need_new_shuffle(y_train, y_test, all_possibile_labels, min_num_istances): \n",
        "    return (check_constraints(y_train, all_possibile_labels, min_num_istances) or \n",
        "            check_constraints(y_test, all_possibile_labels, min_num_istances))"
      ]
    },
    {
      "cell_type": "code",
      "execution_count": null,
      "metadata": {
        "deletable": false,
        "id": "Q7b9JY3xhd4o",
        "nbgrader": {
          "cell_type": "code",
          "checksum": "957aa6aa31dc6374050deb2a164240dd",
          "grade": false,
          "grade_id": "cell-d02ac71a8713e5a9",
          "locked": false,
          "schema_version": 3,
          "solution": true,
          "task": false
        }
      },
      "outputs": [],
      "source": [
        "# TODO 1\n",
        "# Write a function (create_train_val_test_datasets) which takes as input a dataset and returns 2 datasets: \n",
        "# S_t and S_test (different runs are supposed) to return different datasets.\n",
        "# Write a function (create_train_val_test_datasets_with_constraints) which splits our data in S_t and S_test with \n",
        "# the additional constraint that in each dataset we MUST have more than min_num_istances per class.\n",
        "# Each dataset is represented as a matrix m \\times d (numpy ndarray), where m is the number of data and d is the \n",
        "# number of features.\n",
        "# To solve this TODO use the functions we provide you: check_constraints and need_new_shuffle\n",
        "\n",
        "def create_train_val_test_datasets(features : np.ndarray, labels: np.ndarray, m_t : int, m_test : int):\n",
        "    '''\n",
        "    Create training (S_t) and test (S_test) sets starting from a dataset. \n",
        "    This function shuffles the complete dataset before creating the subsets. \n",
        "    If you call this function twice it is expected to get different S_t, S_test. \n",
        "    \n",
        "    :param features: NumPy ndarray containing all the input data data we can use\n",
        "    :param labels: NumPy ndarray containing all the labels we have\n",
        "    :param m_t: Number of samples for the training dataset\n",
        "    :param m_test: Number of samples for the test dataset\n",
        "    \n",
        "    :returns: (x_train, y_train, x_test, y_test)\n",
        "    :rtype: tuple\n",
        "        WHERE\n",
        "        x_train : np.ndarray features in the training dataset\n",
        "        y_train : np.ndarray labels in the training dataset\n",
        "        x_test : np.ndarray features in the test dataset\n",
        "        y_test : np.ndarray labels in the test dataset\n",
        "    '''\n",
        "    # SUGGESTION: Use the function np.random.permutation (see the documentation) to create a permutation of the \n",
        "    #             dataset indexes. Then use these shuffled indexes to create S_t, S_val, S_test\n",
        "\n",
        "    data=np.hstack((features ,labels.T))\n",
        "    data_perm=np.random.permutation(data) # excenge features and labels together\n",
        "\n",
        "    #Separete data:\n",
        "    S_t, S_test = data_perm[:m_t,:], data_perm[m_test:,:]\n",
        "    x_train, y_train = S_t[:,:-1],    S_t[:,-1].reshape(-1,1) \n",
        "    x_test,  y_test  = S_test[:,:-1], S_test[:,-1].reshape(-1,1)\n",
        "\n",
        "    return x_train, y_train, x_test, y_test\n",
        "\n",
        "\n",
        "def create_train_val_test_datasets_with_constraints(features : np.ndarray, labels: np.ndarray, m_t : int, \n",
        "                                                    m_test : int, min_num_istances : int):\n",
        "    '''\n",
        "    Same as function above but now we are imposing the constraints: the splitted datasets are assumed to contain \n",
        "    at least min_num_istances per class.\n",
        "    \n",
        "    ...\n",
        "    :param min_num_istances: Minimum number of istances per class in each of the splitted datasets\n",
        "    ...\n",
        "    \n",
        "    '''\n",
        "    all_possibile_labels = np.unique(labels)\n",
        "    data=np.hstack((features,labels.reshape(-1,1)))\n",
        "    Boolean=True\n",
        "\n",
        "    #Check constrain\n",
        "    while (Boolean == True):\n",
        "      data_perm=np.random.permutation(data)\n",
        "      S_t, S_test = data_perm[:m_t,:], data_perm[m_t:,:]         ### on data_perm must be [m_test:,:] for shape (80,:)\n",
        "      x_train, y_train = S_t[:,:-1],    S_t[:,-1].reshape(-1,1) \n",
        "      x_test,  y_test  = S_test[:,:-1], S_test[:,-1].reshape(-1,1)\n",
        "\n",
        "      #If the constrain not solve the cicle excenge the data again\n",
        "      Boolean=need_new_shuffle(y_train, y_test, all_possibile_labels,min_num_istances)\n",
        "\n",
        "\n",
        "    return x_train, y_train, x_test, y_test\n",
        "\n",
        "m_t = 80\n",
        "x_train, y_train, x_test, y_test = create_train_val_test_datasets_with_constraints(X, Y, m_t, len(Y)-m_t, 25)"
      ]
    },
    {
      "cell_type": "code",
      "execution_count": null,
      "metadata": {
        "deletable": false,
        "editable": false,
        "id": "ML-bXV_Lhd4u",
        "nbgrader": {
          "cell_type": "code",
          "checksum": "838724b9559e75799f3fe903aafc9b85",
          "grade": true,
          "grade_id": "cell-e51332c46f70a2fd",
          "locked": true,
          "points": 3,
          "schema_version": 3,
          "solution": false,
          "task": false
        }
      },
      "outputs": [],
      "source": [
        "assert x_train.shape == (m_t,       x_train.shape[1]) # here we are comparing two tuples (it is an element wise comparison)\n",
        "assert x_test.shape  == (len(Y)-m_t, x_test.shape[1])"
      ]
    },
    {
      "cell_type": "code",
      "execution_count": null,
      "metadata": {
        "deletable": false,
        "editable": false,
        "id": "4jH1H2JPhd4z",
        "nbgrader": {
          "cell_type": "code",
          "checksum": "cd620f5f4708905a5c9236e34a8857eb",
          "grade": false,
          "grade_id": "cell-ac04c6e54551b392",
          "locked": true,
          "schema_version": 3,
          "solution": false,
          "task": false
        }
      },
      "outputs": [],
      "source": [
        "# Let's add a 1 in fron of each sample so that we can use a vector to describe all the coefficients of the model.\n",
        "# Do not run this celle multiple times otherwise you will continue adding ones... \n",
        "# (we add the assert to avoid such issue)\n",
        "\n",
        "assert x_train.shape[1] == d\n",
        "assert x_test.shape[1] == d \n",
        "\n",
        "x_train = np.hstack((np.ones((x_train.shape[0],1)), x_train))\n",
        "x_test  = np.hstack((np.ones((x_test.shape[0],1)),  x_test))"
      ]
    },
    {
      "attachments": {},
      "cell_type": "markdown",
      "metadata": {
        "deletable": false,
        "editable": false,
        "id": "eNATc8njhd47",
        "nbgrader": {
          "cell_type": "markdown",
          "checksum": "c547b928a930e5ebf8fa0d4bf111c686",
          "grade": false,
          "grade_id": "cell-e62f679cad1d169b",
          "locked": true,
          "schema_version": 3,
          "solution": false,
          "task": false
        }
      },
      "source": [
        "**TO DO 2** Now complete the function *perceptron*. Since the perceptron does not terminate if the data is not linearly separable, your implementation should return the desired output (see below) if it reached the termination condition seen in class or if a maximum number of iterations have already been run, where 1 iteration corresponds to 1 update of the perceptron weights. If the perceptron returns because the maximum number of iterations has been reached, you should return an appropriate model (the best seen along the iterations). \n",
        "\n",
        "The input parameters to pass are:\n",
        "- $X$: the matrix of input features, one row for each sample\n",
        "- $Y$: the vector of labels for the input features matrix X\n",
        "- $max\\_num\\_iterations$: the maximum number of iterations for running the perceptron\n",
        "\n",
        "The output values are:\n",
        "- $best\\_w$: the vector with the coefficients of the best model\n",
        "- $best\\_error$: the *fraction* of missclassified samples for the best model\n",
        "\n",
        "\n",
        "**Auxiliary functions**\n",
        "\n",
        "In order to correclty complete the perceptron function it is warmly recommended to define some auxiliary functions (\"*find_missclassified*\" and \"*choose_missclassified*\"). \n",
        "\n",
        "\n",
        "\"__find_missclassified__\"\n",
        "This function looks for missclassified data points in the dataset $X$.\n",
        "\n",
        "The input parameters to pass are:\n",
        "- $X$: the matrix of input features, one row for each sample\n",
        "- $Y$: the vector of labels for the input features matrix X\n",
        "- $curr\\_w$: the current value of the parameter vector *w*\n",
        "\n",
        "The output value is:\n",
        "- $missclassified\\_indeces$: a numpy array cointaining all the missclassified indeces  \n",
        "\n",
        "\n",
        "\"__choose_missclassified__\"\n",
        "This function return one single index choosen from a array of indeces. If the array is empty it returns a non valid index: -1. \n",
        "\n",
        "The input parameters to pass are:\n",
        "- $missclassified\\_indeces$: numpy arrya containing missclassified indeces\n",
        "\n",
        "The output value is:\n",
        "- $index$: Integer (or np.int64) containing the choosen index\n"
      ]
    },
    {
      "cell_type": "code",
      "execution_count": null,
      "metadata": {
        "deletable": false,
        "id": "t-zVbYMEhd49",
        "nbgrader": {
          "cell_type": "code",
          "checksum": "53f7dde77e900af95b5aa8b0c8f19ee6",
          "grade": false,
          "grade_id": "cell-3a616874d5d69312",
          "locked": false,
          "schema_version": 3,
          "solution": true,
          "task": false
        }
      },
      "outputs": [],
      "source": [
        "# TODO 2\n",
        "\n",
        "def find_missclassified(X,Y,curr_w):\n",
        "    # Here you can use np.argwhere to find which model predictions are correct (this is faster than a for loop)\n",
        "    # but be carefull on the dimensions of your predictions vector and Y vector.\n",
        "    missclassified=np.zeros((len(X)))\n",
        "    for j in range(len(X)): \n",
        "      yi=Y[j,:] \n",
        "      wX=np.dot(curr_w,X[j].T)\n",
        "      missclassified[j]=np.dot(yi,wX)\n",
        "    # Compare the value of yi*w*X:\n",
        "    missclassified_indeces = np.argwhere(missclassified<=0)\n",
        "    return missclassified_indeces.reshape(-1,) \n",
        "\n",
        "def choose_missclassified(missclassified_indeces):\n",
        "    n=np.random.randint(len(missclassified_indeces)) #choose a random index\n",
        "    try:\n",
        "      index = missclassified_indeces[n]\n",
        "    except: #if the list is empty\n",
        "      index=-1 \n",
        "    return index\n",
        "\n",
        "def perceptron(X,Y,max_num_iterations):\n",
        "    #INITIALIZATION\n",
        "    curr_w = np.zeros(X.shape[1])\n",
        "    best_w = curr_w\n",
        "    num_samples = X.shape[0]\n",
        "    best_error = num_samples+1  # max + 1 number of possible errors \n",
        "    \n",
        "    missclassified_indeces = None   # You need to assign this variable o the proper value\n",
        "    num_missclassified = None       # You need to assign this variable o the proper value\n",
        "    index_missclassified = None     # You need to assign this variable o the proper value\n",
        "    \n",
        "    # YOUR CODE HERE\n",
        "    missclassified_indeces = find_missclassified(X,Y,curr_w)\n",
        "    num_missclassified = len(missclassified_indeces)\n",
        "    index_missclassified = choose_missclassified(missclassified_indeces)\n",
        "\n",
        "        \n",
        "    num_iter = 1  \n",
        "    while num_iter<=max_num_iterations: \n",
        "\n",
        "        # Update rule\n",
        "        curr_w+=Y[index_missclassified]*X[index_missclassified]\n",
        "\n",
        "        # Update missclassified data points and choose a new missclassified data point\n",
        "        missclassified_indeces=find_missclassified(X,Y,curr_w)\n",
        "        new_num_missclassified=len(missclassified_indeces)\n",
        "        index_missclassified = choose_missclassified(missclassified_indeces)\n",
        "        #If the list is empty we have find a good result, so i can break the circle beafore the last iteration\n",
        "        if index_missclassified<0: \n",
        "          best_error = num_missclassified\n",
        "          best_w = list(curr_w)\n",
        "          break\n",
        "\n",
        "        # Update (if necessary) the best error achieved together with the best parameter up to now\n",
        "        if num_missclassified > new_num_missclassified: #comparison the new iteration with the best\n",
        "          num_missclassified=len(missclassified_indeces)\n",
        "          best_error = num_missclassified\n",
        "          best_w = list(curr_w)\n",
        "\n",
        "        num_iter+=1\n",
        "\n",
        "    best_error = float(best_error)/float(num_samples)\n",
        "    return best_w, best_error"
      ]
    },
    {
      "cell_type": "code",
      "execution_count": null,
      "metadata": {
        "deletable": false,
        "editable": false,
        "id": "X84p8Bs-hd5D",
        "nbgrader": {
          "cell_type": "code",
          "checksum": "8a5c8939ac1088b19932d87f767cf260",
          "grade": true,
          "grade_id": "cell-f8a90f0c3f9aecb7",
          "locked": true,
          "points": 8,
          "schema_version": 3,
          "solution": false,
          "task": false
        }
      },
      "outputs": [],
      "source": [
        "index = choose_missclassified(np.array(list(range(100))))\n",
        "assert type(index) == np.int64 or type(index) == int"
      ]
    },
    {
      "cell_type": "code",
      "execution_count": null,
      "metadata": {
        "colab": {
          "base_uri": "https://localhost:8080/"
        },
        "deletable": false,
        "editable": false,
        "id": "V9pU8Lrehd5K",
        "nbgrader": {
          "cell_type": "code",
          "checksum": "ff63fdef5cb5a9631594ddddad82c1d9",
          "grade": false,
          "grade_id": "cell-095ff4deafd22d73",
          "locked": true,
          "schema_version": 3,
          "solution": false,
          "task": false
        },
        "outputId": "2d9452d3-3f1f-4e18-e690-2aa91392b873"
      },
      "outputs": [
        {
          "name": "stdout",
          "output_type": "stream",
          "text": [
            "Training error with 100 iterations: 0.25\n"
          ]
        }
      ],
      "source": [
        "#now run the perceptron for 100 iterations\n",
        "w_found, training_error = perceptron(x_train, y_train, 100)\n",
        "print(\"Training error with 100 iterations: \" + str(training_error))\n"
      ]
    },
    {
      "cell_type": "code",
      "execution_count": null,
      "metadata": {
        "deletable": false,
        "id": "v_vMqagZhd5T",
        "nbgrader": {
          "cell_type": "code",
          "checksum": "a2962fcea22d2344b6303c8a6d295084",
          "grade": false,
          "grade_id": "cell-a9cd59af4f855da0",
          "locked": false,
          "schema_version": 3,
          "solution": true,
          "task": false
        }
      },
      "outputs": [],
      "source": [
        "# TODO 3 \n",
        "# Write a function to compute the fraction of missclassified samples given two nd.array vectors of shape number of \n",
        "# data times 1 (column vectors)\n",
        "def classification_loss(y_target : np.ndarray, predictions : np.ndarray) -> float:\n",
        "    '''\n",
        "    This function computes the fraction of missclassified samples given two vectors: true labels and predictions. \n",
        "    :param y_target: output labels\n",
        "    :param predictions: predictions\n",
        "    \n",
        "    :return: Fraction of missclassified samples\n",
        "    '''\n",
        "    missclassified_indeces= np.argwhere((y_target-predictions) !=0) #if the difference is not zero then is a missclassified\n",
        "    return missclassified_indeces.shape[0] / y_target.shape[0]\n",
        "\n",
        "# Write a function to comptue the fraction of missclassified samples for a generic dataset given inputs, targets and \n",
        "# a vector w.\n",
        "def compute_fraction_missclassified(X : np.ndarray, Y : np.ndarray, w : np.ndarray) -> float:\n",
        "    '''\n",
        "    This function computes the fraction of missclassified samples of model parametrized by w on the data X w.r.t. \n",
        "    targets Y. \n",
        "    :param X: input locations\n",
        "    :param Y: targets\n",
        "    :param w: parameters of the model to be tested\n",
        "    \n",
        "    :return: Fraction of missclassified samples\n",
        "    '''\n",
        "    # YOUR CODE HERE\n",
        "    y_bar=np.dot(w,X.T)\n",
        "    predictions=np.where(y_bar>0,1,-1)\n",
        "    \n",
        "    fraction_missclass = classification_loss(Y,predictions.reshape(-1,1))\n",
        "    return fraction_missclass"
      ]
    },
    {
      "cell_type": "code",
      "execution_count": null,
      "metadata": {
        "deletable": false,
        "editable": false,
        "id": "TakVwtbKhd5Y",
        "nbgrader": {
          "cell_type": "code",
          "checksum": "35607e8fa3a23c1c961161be3f18fa51",
          "grade": true,
          "grade_id": "cell-37188909eff59ebb",
          "locked": true,
          "points": 2,
          "schema_version": 3,
          "solution": false,
          "task": false
        }
      },
      "outputs": [],
      "source": [
        "assert classification_loss(np.array([[1],[3]]), np.array([[1],[3]])) == 0\n",
        "assert classification_loss(np.array([[1],[2]]), np.array([[1],[3]])) == 0.5\n",
        "y_labels, y_predictions = np.random.choice(10, 1000000), np.random.choice(10, 1000000)\n",
        "assert np.isclose(classification_loss(y_labels, y_predictions), 0.9, atol=0.01)\n",
        "assert training_error == compute_fraction_missclassified(x_train, y_train, w_found)\n"
      ]
    },
    {
      "attachments": {},
      "cell_type": "markdown",
      "metadata": {
        "deletable": false,
        "editable": false,
        "id": "H2zda40Vhd5g",
        "nbgrader": {
          "cell_type": "markdown",
          "checksum": "f97555da1f74491c0c6d64443c720ea3",
          "grade": false,
          "grade_id": "cell-f450a5d89edf3906",
          "locked": true,
          "schema_version": 3,
          "solution": false,
          "task": false
        }
      },
      "source": [
        "We now use the best model $w\\_found$ to predict the labels for the test dataset and print the fraction of missclassified samples in the test set (that is an estimate of the true loss)."
      ]
    },
    {
      "cell_type": "code",
      "execution_count": null,
      "metadata": {
        "colab": {
          "base_uri": "https://localhost:8080/"
        },
        "deletable": false,
        "editable": false,
        "id": "MYCUOW_ohd5h",
        "nbgrader": {
          "cell_type": "code",
          "checksum": "f4d243c6f58881e06c80a96a04857062",
          "grade": false,
          "grade_id": "cell-cc7f13766f7358b1",
          "locked": true,
          "schema_version": 3,
          "solution": false,
          "task": false
        },
        "outputId": "0e70ebd8-c87e-4675-dee1-c54a2a02dfbd"
      },
      "outputs": [
        {
          "name": "stdout",
          "output_type": "stream",
          "text": [
            "Training Error for 100 iterations is 0.2500\n",
            "Test Error for 100 iterations is 0.2653\n"
          ]
        }
      ],
      "source": [
        "print(f\"Training Error for 100 iterations is {compute_fraction_missclassified(x_train, y_train, w_found):.4f}\")\n",
        "print(f\"Test Error for 100 iterations is {compute_fraction_missclassified(x_test, y_test, w_found):.4f}\")"
      ]
    },
    {
      "cell_type": "code",
      "execution_count": null,
      "metadata": {
        "colab": {
          "base_uri": "https://localhost:8080/"
        },
        "deletable": false,
        "editable": false,
        "id": "RK-2vh6zhd5n",
        "nbgrader": {
          "cell_type": "code",
          "checksum": "dca6b09c331111fa9f65303e90c63976",
          "grade": false,
          "grade_id": "cell-69bcb07038fe4647",
          "locked": true,
          "schema_version": 3,
          "solution": false,
          "task": false
        },
        "outputId": "60e96be7-bec6-476c-b7eb-d1c75c17b3c2"
      },
      "outputs": [
        {
          "name": "stdout",
          "output_type": "stream",
          "text": [
            "Training Error for 10000 iterations is 0.1875\n",
            "Test Error for 10000 iterations is 0.2245\n"
          ]
        }
      ],
      "source": [
        "#now run the perceptron for 10000 iterations\n",
        "w_found, training_error = perceptron(x_train, y_train, 10000)\n",
        "print(f\"Training Error for 10000 iterations is {compute_fraction_missclassified(x_train, y_train, w_found):.4f}\")\n",
        "print(f\"Test Error for 10000 iterations is {compute_fraction_missclassified(x_test, y_test, w_found):.4f}\")"
      ]
    },
    {
      "attachments": {},
      "cell_type": "markdown",
      "metadata": {
        "deletable": false,
        "editable": false,
        "id": "7GGOswMehd5t",
        "nbgrader": {
          "cell_type": "markdown",
          "checksum": "469c760d825c24576002ab57a889b4f5",
          "grade": false,
          "grade_id": "cell-b46ec6017397bf6c",
          "locked": true,
          "schema_version": 3,
          "solution": false,
          "task": false
        }
      },
      "source": [
        "**TO DO 4**: Answer in the next cell (you do not need more than 5-7 lines):\n",
        "\n",
        "1- Consider 100 iterations: what relation do you observe between the training error and the (estimated) true loss? Is this what you expected? Explain what you observe and why it does or does not conform to your expectations.\n",
        "\n",
        "2- Consider 10000 iterations, what has changed? Explain what you observe and why it does or does not conform to your expectations."
      ]
    },
    {
      "attachments": {},
      "cell_type": "markdown",
      "metadata": {
        "deletable": false,
        "id": "20dLBp9Hhd5u",
        "nbgrader": {
          "cell_type": "markdown",
          "checksum": "ee49814e1ace90cb290960321c5b1245",
          "grade": true,
          "grade_id": "cell-365d7332987338b7",
          "locked": false,
          "points": 5,
          "schema_version": 3,
          "solution": true,
          "task": false
        }
      },
      "source": [
        "1- I observe that the Training Error is less than the (estimated) true loss, this is obvius beacause we compute the best_w with the training set, so i expecte that in general the (estimated) true loss is bigger than the  Training Error.\n",
        "\n",
        "2- The Training Error and the Test Error have been change, in particolar both have been reduce, this beacause the number of iteration increse and we have more possibily for find a better model 'best_w'.\n",
        "I expect this, there are more possibility for find a model that classified correctly the value and so give me a lower error\n"
      ]
    },
    {
      "attachments": {},
      "cell_type": "markdown",
      "metadata": {
        "deletable": false,
        "editable": false,
        "id": "oFwckrzYhd5v",
        "nbgrader": {
          "cell_type": "markdown",
          "checksum": "7ee804dacb6dc36e52aa75ef49bd0823",
          "grade": false,
          "grade_id": "cell-ceceb8d79bdbb44c",
          "locked": true,
          "schema_version": 3,
          "solution": false,
          "task": false
        }
      },
      "source": [
        "# Logistic Regression\n",
        "Now we use logistic regression, as implemented in Scikit-learn, to predict labels. We first do it for 2 labels and then for 3 labels. We will also plot the decision region of logistic regression.\n",
        "\n",
        "We first load the dataset again."
      ]
    },
    {
      "cell_type": "code",
      "execution_count": null,
      "metadata": {
        "deletable": false,
        "editable": false,
        "id": "2p0cVEY-hd5w",
        "nbgrader": {
          "cell_type": "code",
          "checksum": "1f987eb7258f14865ba47ac14effdc10",
          "grade": false,
          "grade_id": "cell-f0438d3eda59cd16",
          "locked": true,
          "schema_version": 3,
          "solution": false,
          "task": false
        }
      },
      "outputs": [],
      "source": [
        "import random\n",
        "# Let's reinitialize the random seed \n",
        "random.seed(1167313)\n",
        "np.random.seed(1167313)\n",
        "\n",
        "# In the following we will keep the dataset with only two classes (which we aggregated before)\n",
        "m_t = 80\n",
        "x_train, y_train, x_test, y_test = create_train_val_test_datasets_with_constraints(X, Y, m_t, len(Y)-m_t, 25)"
      ]
    },
    {
      "attachments": {},
      "cell_type": "markdown",
      "metadata": {
        "deletable": false,
        "editable": false,
        "id": "6tBGl_1-hd52",
        "nbgrader": {
          "cell_type": "markdown",
          "checksum": "e3eb406fdb31dcb52fc4937842fa7f6a",
          "grade": false,
          "grade_id": "cell-2ac0dfd0d9156863",
          "locked": true,
          "schema_version": 3,
          "solution": false,
          "task": false
        }
      },
      "source": [
        "To define a logistic regression model in Scikit-learn use the instruction\n",
        "\n",
        "$linear\\_model.LogisticRegression(C=1e5)$\n",
        "\n",
        "($C$ is a parameter related to *regularization*, a technique that\n",
        "we will see later in the course. Setting it to a high value is almost\n",
        "as ignoring regularization, so the instruction above corresponds to the\n",
        "logistic regression you have seen in class.)\n",
        "\n",
        "To learn the model you need to use the $fit(...)$ instruction and to predict you need to use the $predict(...)$ function. See the Scikit-learn documentation for how to use it (have a look at the logreg.score method too).\n",
        "\n",
        "**TO DO** Define the logistic regression model, then learn the model using the training set and predict on the test set. Then print the fraction of samples missclassified in the training set and in the test set."
      ]
    },
    {
      "cell_type": "code",
      "execution_count": null,
      "metadata": {
        "colab": {
          "base_uri": "https://localhost:8080/"
        },
        "deletable": false,
        "id": "HxMILsCghd53",
        "nbgrader": {
          "cell_type": "code",
          "checksum": "9022a96429b5455be9a1db350551a54a",
          "grade": false,
          "grade_id": "cell-1319502bf0c222b4",
          "locked": false,
          "schema_version": 3,
          "solution": true,
          "task": false
        },
        "outputId": "633676ac-cbe8-4136-d5a0-30c8698691d6"
      },
      "outputs": [
        {
          "name": "stdout",
          "output_type": "stream",
          "text": [
            "Error rate on training set: 0.0\n",
            "Error rate on test set: 0.12244897959183673\n",
            "Compare the estimate of generalization with the sklearn implementation 0.12244897959183676\n"
          ]
        },
        {
          "name": "stderr",
          "output_type": "stream",
          "text": [
            "/usr/local/lib/python3.6/dist-packages/sklearn/linear_model/_logistic.py:940: ConvergenceWarning: lbfgs failed to converge (status=1):\n",
            "STOP: TOTAL NO. of ITERATIONS REACHED LIMIT.\n",
            "\n",
            "Increase the number of iterations (max_iter) or scale the data as shown in:\n",
            "    https://scikit-learn.org/stable/modules/preprocessing.html\n",
            "Please also refer to the documentation for alternative solver options:\n",
            "    https://scikit-learn.org/stable/modules/linear_model.html#logistic-regression\n",
            "  extra_warning_msg=_LOGISTIC_SOLVER_CONVERGENCE_MSG)\n"
          ]
        }
      ],
      "source": [
        "# TODO 5\n",
        "# Logistic regression for 2 classes\n",
        "# To compute the error rate (classification loss you can use the function \"classification_loss\" you built before)\n",
        "# YOUR CODE HERE\n",
        "\n",
        "logreg=linear_model.LogisticRegression(C=1e5 , max_iter=100) #put max_iter=1000 for remove the warning\n",
        "logreg.fit(x_train, y_train.ravel())\n",
        "predictions_test=logreg.predict(x_test)\n",
        "predictions_train=logreg.predict(x_train)\n",
        "error_rate_test_sklearn=1- logreg.score(x_test,y_test)\n",
        "error_rate_training=classification_loss(y_train,predictions_train.reshape(-1,1))\n",
        "error_rate_test=classification_loss(y_test,predictions_test.reshape(-1,1))\n",
        "\n",
        "print(\"Error rate on training set: \"+str(error_rate_training))\n",
        "print(\"Error rate on test set: \"+str(error_rate_test))\n",
        "print(f\"Compare the estimate of generalization with the sklearn implementation {error_rate_test_sklearn}\")"
      ]
    },
    {
      "cell_type": "code",
      "execution_count": null,
      "metadata": {
        "deletable": false,
        "editable": false,
        "id": "GpD1dXf5hd58",
        "nbgrader": {
          "cell_type": "code",
          "checksum": "5b4c7bd126df457d4e6b716058b14d67",
          "grade": true,
          "grade_id": "cell-f61fd1d382c5083b",
          "locked": true,
          "points": 3,
          "schema_version": 3,
          "solution": false,
          "task": false
        }
      },
      "outputs": [],
      "source": [
        "assert np.isclose(error_rate_test, error_rate_test_sklearn)"
      ]
    },
    {
      "attachments": {},
      "cell_type": "markdown",
      "metadata": {
        "deletable": false,
        "editable": false,
        "id": "mdRaD89Yhd6B",
        "nbgrader": {
          "cell_type": "markdown",
          "checksum": "06fc67cd6c1561737cca0900743ac5d0",
          "grade": false,
          "grade_id": "cell-1bc78d30e45a1810",
          "locked": true,
          "schema_version": 3,
          "solution": false,
          "task": false
        }
      },
      "source": [
        "Now we do logistic regression for classification with 3 classes."
      ]
    },
    {
      "cell_type": "code",
      "execution_count": null,
      "metadata": {
        "deletable": false,
        "editable": false,
        "id": "j4n6DLKehd6C",
        "nbgrader": {
          "cell_type": "code",
          "checksum": "07fb9f417b1d482394a832eac00d959e",
          "grade": false,
          "grade_id": "cell-a50c4e9d48fc99b8",
          "locked": true,
          "schema_version": 3,
          "solution": false,
          "task": false
        }
      },
      "outputs": [],
      "source": [
        "random.seed(1167313)\n",
        "np.random.seed(1167313)\n",
        "\n",
        "X = wine.data\n",
        "Y = wine.target\n",
        "\n",
        "m_t = 80\n",
        "x_train, y_train, x_test, y_test = create_train_val_test_datasets_with_constraints(X, Y, m_t, len(Y)-m_t, 20)\n",
        "\n",
        "_, counts = np.unique(y_train, return_counts=True)\n",
        "assert (counts >= 20).all()\n",
        "_, counts = np.unique(y_test, return_counts=True)\n",
        "assert (counts >= 20).all()"
      ]
    },
    {
      "cell_type": "code",
      "execution_count": null,
      "metadata": {
        "colab": {
          "base_uri": "https://localhost:8080/"
        },
        "deletable": false,
        "id": "y2tH4xc0hd6G",
        "nbgrader": {
          "cell_type": "code",
          "checksum": "4c42b1310e75ffc316b3d81b020d1860",
          "grade": false,
          "grade_id": "cell-a5bafa4e2faa3712",
          "locked": false,
          "schema_version": 3,
          "solution": true,
          "task": false
        },
        "outputId": "057641bf-85b7-427a-b06c-3c244f6c67c2"
      },
      "outputs": [
        {
          "name": "stdout",
          "output_type": "stream",
          "text": [
            "Error rate on training set: 0.0375\n",
            "Error rate on test set: 0.07142857142857142\n",
            "Compare the estimate of generalization with the sklearn implementation 0.0714285714285714\n"
          ]
        },
        {
          "name": "stderr",
          "output_type": "stream",
          "text": [
            "/usr/local/lib/python3.6/dist-packages/sklearn/linear_model/_logistic.py:940: ConvergenceWarning: lbfgs failed to converge (status=1):\n",
            "STOP: TOTAL NO. of ITERATIONS REACHED LIMIT.\n",
            "\n",
            "Increase the number of iterations (max_iter) or scale the data as shown in:\n",
            "    https://scikit-learn.org/stable/modules/preprocessing.html\n",
            "Please also refer to the documentation for alternative solver options:\n",
            "    https://scikit-learn.org/stable/modules/linear_model.html#logistic-regression\n",
            "  extra_warning_msg=_LOGISTIC_SOLVER_CONVERGENCE_MSG)\n"
          ]
        }
      ],
      "source": [
        "# TODO 6\n",
        "# Logistic regression for 3 classes\n",
        "# To compute the error rate (classification loss you can use the function \"classification_loss\" you built before)\n",
        "# YOUR CODE HERE\n",
        "\n",
        "w=linear_model.LogisticRegression(C=1e5 ,max_iter=100) #put max_iter=1000 for remove the warning\n",
        "w.fit(x_train, y_train.ravel())\n",
        "predictions_test=w.predict(x_test)\n",
        "predictions_train=w.predict(x_train)\n",
        "error_rate_training=classification_loss(y_train,predictions_train.reshape(-1,1))\n",
        "error_rate_test=classification_loss(y_test,predictions_test.reshape(-1,1))\n",
        "error_rate_test_sklearn=1- w.score(x_test,y_test)\n",
        "\n",
        "    \n",
        "print(\"Error rate on training set: \"+str(error_rate_training))\n",
        "print(\"Error rate on test set: \"+str(error_rate_test))\n",
        "print(f\"Compare the estimate of generalization with the sklearn implementation {error_rate_test_sklearn}\")"
      ]
    },
    {
      "cell_type": "code",
      "execution_count": null,
      "metadata": {
        "deletable": false,
        "editable": false,
        "id": "6epLNkmwhd6L",
        "nbgrader": {
          "cell_type": "code",
          "checksum": "3c389e0a9443246776714b7d8bfadea3",
          "grade": true,
          "grade_id": "cell-32dd959d8191b244",
          "locked": true,
          "points": 1,
          "schema_version": 3,
          "solution": false,
          "task": false
        }
      },
      "outputs": [],
      "source": [
        "assert np.isclose(error_rate_test, error_rate_test_sklearn)"
      ]
    },
    {
      "attachments": {},
      "cell_type": "markdown",
      "metadata": {
        "deletable": false,
        "editable": false,
        "id": "0YYrdBJGhd6S",
        "nbgrader": {
          "cell_type": "markdown",
          "checksum": "195faa3876c269473398c8005e28b357",
          "grade": false,
          "grade_id": "cell-a43468bc0e155db7",
          "locked": true,
          "schema_version": 3,
          "solution": false,
          "task": false
        }
      },
      "source": [
        "**TO DO 7**: Answer in the next cell (you do not need more than 5-7 lines):\n",
        "\n",
        "1- Consider logistic regression on 2 and 3 classes what relation do you observe between the training error and the (estimated) true loss in both cases? Is this what you expected? Explain what you observe and why it does or does not conform to your expectations.\n",
        "\n",
        "2- Consider logistic regression on 2 and perceptron with 10000 iterations, which one would you pick? Do you expect perceptron needs more iterations? Explain what you observe and why it does or does not conform to your expectations.\n"
      ]
    },
    {
      "attachments": {},
      "cell_type": "markdown",
      "metadata": {
        "deletable": false,
        "id": "V1tIRxuQhd6T",
        "nbgrader": {
          "cell_type": "markdown",
          "checksum": "afe09c3e3ade70025d68baa76a1c23b7",
          "grade": true,
          "grade_id": "cell-5c8a6b5a5434d45a",
          "locked": false,
          "points": 5,
          "schema_version": 3,
          "solution": true,
          "task": false
        }
      },
      "source": [
        "1- I observe that the training error with 2 classes is zero so i classified correctly all the value and the problem is linearly separable, while for the training error with 3 classes I note that is near zero but is sufficient for deduce that is not linearly separable(if max_iter=100). For the (estimated) true loss, in both casses, the error is different from zero in particular the error is quit bigger than the training error. I expect that beacause the model was fitted with my training set.\n",
        "\n",
        "2-I would take the logistic regression on 2 beacuase have a smaller error rate, so the perceptron algorithm needs more iterations for have a good result, but in the other hand need more time for run the algorthm.\n",
        "My expextation was exactly this, the  logistic regression is more robust than the perceptron, in practise the perceptron when find a model that separete correctly the points stops, but could be other model that are 'more good', while the logistic regression find immediatelly the best model."
      ]
    },
    {
      "attachments": {},
      "cell_type": "markdown",
      "metadata": {
        "deletable": false,
        "editable": false,
        "id": "_PrkVV-zhd6U",
        "nbgrader": {
          "cell_type": "markdown",
          "checksum": "42c19c257ab817691414cedd4daa344f",
          "grade": false,
          "grade_id": "cell-8100034bd6b75005",
          "locked": true,
          "schema_version": 3,
          "solution": false,
          "task": false
        }
      },
      "source": [
        "We now are going to plot prediction boundaries of a logistic regression model, in order to plot them we need to reduce the number of features to 2: pick two features and restrict the dataset to include only two features, whose indices are specified in the $feature$ vector below. Then split into training and test."
      ]
    },
    {
      "cell_type": "code",
      "execution_count": null,
      "metadata": {
        "colab": {
          "base_uri": "https://localhost:8080/"
        },
        "deletable": false,
        "id": "cnIWeOidhd6V",
        "nbgrader": {
          "cell_type": "code",
          "checksum": "876042e9dedd130e98c69f9755ba17db",
          "grade": false,
          "grade_id": "cell-61db43ed3e1ffada",
          "locked": false,
          "schema_version": 3,
          "solution": true,
          "task": false
        },
        "outputId": "9efda3a2-26e8-4f69-f278-cfb58e416b65"
      },
      "outputs": [
        {
          "data": {
            "text/plain": [
              "LogisticRegression(C=100000.0, class_weight=None, dual=False,\n",
              "                   fit_intercept=True, intercept_scaling=1, l1_ratio=None,\n",
              "                   max_iter=100, multi_class='auto', n_jobs=None, penalty='l2',\n",
              "                   random_state=None, solver='lbfgs', tol=0.0001, verbose=0,\n",
              "                   warm_start=False)"
            ]
          },
          "execution_count": 111,
          "metadata": {
            "tags": []
          },
          "output_type": "execute_result"
        }
      ],
      "source": [
        "# TODO 8\n",
        "#to make the plot we need to reduce the data to 2D, so we choose two features\n",
        "features_list = ['Alcohol', 'Malic acid', 'Ash', 'Alcalinity of ash', 'Magnesium', 'Total phenols', 'Flavanoids',\n",
        "                 'Nonflavanoid phenols', 'Proanthocyanins', 'Color intensity', 'Hue', 'OD280/OD315 of diluted wines',\n",
        "                 'Proline']\n",
        "labels_list = ['class_0', 'class_1', 'class_2']\n",
        "\n",
        "index_feature1 = 9  # You can choose the feature you prefer here\n",
        "index_feature2 = 10  # You can choose the feature you prefer here\n",
        "features = [index_feature1, index_feature2]\n",
        "\n",
        "feature_name0 = features_list[features[0]]\n",
        "feature_name1 = features_list[features[1]]\n",
        "\n",
        "X = X[:,features]\n",
        "\n",
        "# In the following we will keep the dataset with only two classes (which we aggregated before)\n",
        "m_t = 80\n",
        "x_train, y_train, x_test, y_test = create_train_val_test_datasets_with_constraints(X, Y, m_t, len(Y)-m_t, 20)\n",
        "\n",
        "# Fit a model on the reduced set of fetures\n",
        "# YOUR CODE HERE\n",
        "logreg=linear_model.LogisticRegression(C=1e5)\n",
        "logreg.fit(x_train, y_train.ravel())\n"
      ]
    },
    {
      "cell_type": "code",
      "execution_count": null,
      "metadata": {
        "deletable": false,
        "editable": false,
        "id": "zuK6_A5yhd6b",
        "nbgrader": {
          "cell_type": "code",
          "checksum": "f9afbdb7ca58f2157c4f16eb060f8ae0",
          "grade": true,
          "grade_id": "cell-6e35e0afddc4eb55",
          "locked": true,
          "points": 1,
          "schema_version": 3,
          "solution": false,
          "task": false
        }
      },
      "outputs": [],
      "source": [
        "assert logreg.predict(x_test).shape == (x_test.shape[0], )"
      ]
    },
    {
      "attachments": {},
      "cell_type": "markdown",
      "metadata": {
        "deletable": false,
        "editable": false,
        "id": "XkEmLd20hd6h",
        "nbgrader": {
          "cell_type": "markdown",
          "checksum": "b2c1d6dfdff662b26f5a565a5f0dbe75",
          "grade": false,
          "grade_id": "cell-e052804bd400c9d7",
          "locked": true,
          "schema_version": 3,
          "solution": false,
          "task": false
        }
      },
      "source": [
        "The code below uses the model in $logreg$ to plot the decision region for the two features chosen above, with colors denoting the predicted value. It also plots the points (with correct labels) in the training set. It makes a similar plot for the test set."
      ]
    },
    {
      "cell_type": "code",
      "execution_count": null,
      "metadata": {
        "colab": {
          "base_uri": "https://localhost:8080/",
          "height": 385
        },
        "deletable": false,
        "editable": false,
        "id": "PJJFzVa9hd6i",
        "nbgrader": {
          "cell_type": "code",
          "checksum": "3463eb3529cac488e7c63459abae8cd5",
          "grade": false,
          "grade_id": "cell-0c8b1f9de040f7cf",
          "locked": true,
          "schema_version": 3,
          "solution": false,
          "task": false
        },
        "outputId": "e3058220-a364-4c78-c7d9-da2cecd20b51"
      },
      "outputs": [
        {
          "data": {
            "text/plain": [
              "Text(0.5, 1.0, 'Test set')"
            ]
          },
          "execution_count": 113,
          "metadata": {
            "tags": []
          },
          "output_type": "execute_result"
        },
        {
          "data": {
            "text/plain": [
              "<Figure size 288x216 with 0 Axes>"
            ]
          },
          "metadata": {
            "tags": []
          },
          "output_type": "display_data"
        },
        {
          "data": {
            "image/png": "[encoded data removed]",
            "text/plain": [
              "<Figure size 720x360 with 2 Axes>"
            ]
          },
          "metadata": {
            "needs_background": "light",
            "tags": []
          },
          "output_type": "display_data"
        }
      ],
      "source": [
        "# Plot the decision boundary. For that, we will assign a color to each\n",
        "# point in the mesh [x_min, x_max]x[y_min, y_max].\n",
        "h = .02  # step size in the mesh\n",
        "x_min, x_max = X[:, 0].min() - .5, X[:, 0].max() + .5\n",
        "y_min, y_max = X[:, 1].min() - .5, X[:, 1].max() + .5\n",
        "xx, yy = np.meshgrid(np.arange(x_min, x_max, h), np.arange(y_min, y_max, h))\n",
        "\n",
        "Z = logreg.predict(np.c_[xx.ravel(), yy.ravel()])\n",
        "\n",
        "# Put the result into a color plot\n",
        "Z = Z.reshape(xx.shape)\n",
        "\n",
        "plt.figure(1, figsize=(4, 3))\n",
        "fig, axes = plt.subplots(1,2, figsize=(10,5))\n",
        "axes[0].pcolormesh(xx, yy, Z, cmap=plt.cm.Paired)\n",
        "\n",
        "# Plot also the training points\n",
        "axes[0].scatter(x_train[:, 0], x_train[:, 1], c=y_train, edgecolors='k', cmap=plt.cm.Paired)\n",
        "axes[0].set_xlabel(feature_name0)\n",
        "axes[0].set_ylabel(feature_name1)\n",
        "\n",
        "axes[0].set_xlim(xx.min(), xx.max())\n",
        "axes[0].set_ylim(yy.min(), yy.max())\n",
        "axes[0].set_title('Training set')\n",
        "\n",
        "# Put the result into a color plot\n",
        "Z = Z.reshape(xx.shape)\n",
        "axes[1].pcolormesh(xx, yy, Z, cmap=plt.cm.Paired)\n",
        "\n",
        "# Plot also the test points \n",
        "axes[1].scatter(x_test[:, 0], x_test[:, 1], c=y_test, edgecolors='k', cmap=plt.cm.Paired, marker='s')\n",
        "axes[1].set_xlabel(feature_name0)\n",
        "axes[1].set_ylabel(feature_name1)\n",
        "\n",
        "axes[1].set_xlim(xx.min(), xx.max())\n",
        "axes[1].set_ylim(yy.min(), yy.max())\n",
        "axes[1].set_title('Test set')"
      ]
    },
    {
      "attachments": {},
      "cell_type": "markdown",
      "metadata": {
        "deletable": false,
        "editable": false,
        "id": "DIvhtpz7hd6n",
        "nbgrader": {
          "cell_type": "markdown",
          "checksum": "82ce971ccf26b98e3f76b6506d37ad59",
          "grade": false,
          "grade_id": "cell-acdf2d40b719572c",
          "locked": true,
          "schema_version": 3,
          "solution": false,
          "task": false
        }
      },
      "source": [
        "**TO DO 9**: Answer in the next cell (you do not need more than 5-7 lines):\n",
        "\n",
        "1- What is the shape of the decision boundaries? Why?\n",
        "\n",
        "2- In this lower dimensional space, are the features linearily separable? What if you consider the entire feature vector (without any dimensionality reduction)?  \n"
      ]
    },
    {
      "attachments": {},
      "cell_type": "markdown",
      "metadata": {
        "deletable": false,
        "id": "mUbee-K2hd6o",
        "nbgrader": {
          "cell_type": "markdown",
          "checksum": "73a023e7e2714dd35c92f77ec982d640",
          "grade": true,
          "grade_id": "cell-5a2bb524ef017bac",
          "locked": false,
          "points": 2,
          "schema_version": 3,
          "solution": true,
          "task": false
        }
      },
      "source": [
        "1- With three classes we have three regions on the plot formed by the intersection of three lines, since we have three difference w_k for k=0,1,2.\n",
        "\n",
        "2-In this lower dimensional space the features aren't linearily separable, i note some points with a different color of the region.\n",
        "\n",
        "If i conseder the entire feature vector will be difficult to visualize it with a plot but there will remain three region that classify this points. Moreover, i think that the data could be linearly separable beacause they lives in a higher dimension and in this case the data are 'more separable'."
      ]
    }
  ],
  "metadata": {
    "colab": {
      "collapsed_sections": [],
      "name": "LC_GiulioSavian_1167313.ipynb",
      "provenance": []
    },
    "kernelspec": {
      "display_name": "Python 3",
      "language": "python",
      "name": "python3"
    },
    "language_info": {
      "codemirror_mode": {
        "name": "ipython",
        "version": 3
      },
      "file_extension": ".py",
      "mimetype": "text/x-python",
      "name": "python",
      "nbconvert_exporter": "python",
      "pygments_lexer": "ipython3",
      "version": "3.8.3"
    }
  },
  "nbformat": 4,
  "nbformat_minor": 0
}
